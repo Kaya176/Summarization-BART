{
 "cells": [
  {
   "cell_type": "code",
   "execution_count": 56,
   "id": "resistant-korea",
   "metadata": {},
   "outputs": [],
   "source": [
    "import torch\n",
    "from kobart import get_kobart_tokenizer\n",
    "from transformers.models.bart import BartForConditionalGeneration\n",
    "from kobart import get_pytorch_kobart_model"
   ]
  },
  {
   "cell_type": "code",
   "execution_count": 2,
   "id": "cooked-being",
   "metadata": {},
   "outputs": [
    {
     "name": "stdout",
     "output_type": "stream",
     "text": [
      "using cached model\n"
     ]
    }
   ],
   "source": [
    "def load_model():\n",
    "    model = BartForConditionalGeneration.from_pretrained(\"./kobart_summary/\")\n",
    "    return model\n",
    "\n",
    "model = load_model()\n",
    "tokenizer = get_kobart_tokenizer()"
   ]
  },
  {
   "cell_type": "code",
   "execution_count": 57,
   "id": "intermediate-plain",
   "metadata": {},
   "outputs": [
    {
     "name": "stdout",
     "output_type": "stream",
     "text": [
      "using cached model\n"
     ]
    }
   ],
   "source": [
    "origin_model = BartForConditionalGeneration.from_pretrained(get_pytorch_kobart_model())"
   ]
  },
  {
   "cell_type": "code",
   "execution_count": 64,
   "id": "japanese-audio",
   "metadata": {
    "scrolled": false
   },
   "outputs": [
    {
     "name": "stdout",
     "output_type": "stream",
     "text": [
      "글 입력 :  (서울=연합뉴스) 김유아 기자 = 9일 오전 국내 가상화폐 시장에서 비트코인이 8천200만원을 넘어서면서 약 7개월 만에 사상 최고가를 다시 썼다.  가상화폐 거래소 업비트에서 이날 오전 9시 50분 1비트코인은 8천203만9천만원까지 올라, 지난 4월 14일 기록된 최고가(8천199만4천원)을 210일 만에 경신했다.  빗썸에서도 오전 10시 1비트코인은 24시간 전보다 4.54% 오른 8천197만원에 거래되며, 사상 최고가를 경신했다. 빗썸에서 비트코인의 종전 최고가는 8천148만7천원(4월 14일)이다.  고점을 찍은 뒤에는 소폭 내려앉으며 두 거래소에서 8천160만원대에서 움직이고 있다.  비트코인은 연계 상장지수펀드(ETF)인 'BITO'가 미국 뉴욕증권거래소(NYSE)에 정식 출범한 직후인 지난달 21일 8천만원선에 진입하면서 최고가 돌파를 시도했으나 투자자들의 차익 실현 등으로 인해 하락세를 보였다.  그러나 간밤 미국에서 비트코인이 사상 처음으로 6만7천달러를 돌파하며 20일 만에 최고가 기록을 세우자 국내 가상화폐 시장에서도 지지선을 넘어 반등에 성공했다.  시장에서는 인플레이션으로 인해 달러 가치가 하락하면서 '디지털 금'으로 불리는 비트코인 등 가상화폐에 대한 투자 수요가 생겨나고 있다는 분석이 나오고 있다. 인플레이션에 대한 헤지 수단으로 쓰이고 있다는 의미다.  미국에서 최근 당선된 에릭 애덤스 뉴욕시장이 초기 급여를 비트코인으로 받겠다고 선언하고, 학교에서 가상화폐 관련 교육을 해야 한다며 친(親) 가상화폐 행보를 이어간 점이 일부 영향을 미친 것으로 보인다.  미국 CNBC는 비트코인이 상승한 이유가 뚜렷하지는 않으나, 최근 '탈(脫) 중앙화 금융'(De-Fi·디파이) 서비스의 인기가 높아지면서 관련 종목들의 강세 현상이 나타나고 있다고 분석했다.  디파이는 블록체인 기술을 이용해 은행이나 중개인의 개입 없이 이용자끼리 컴퓨터 코드로 제어되는 '스마트 계약'을 맺고 진행하는 각종 금융 거래를 말한다.  국내 가상화폐 시장에서 두 번째로 덩치가 큰 이더리움은 비트코인의 상승세를 따라 580만원대를 오르내리며 600만원 진입을 시도하고 있다.  가상화폐는 주식시장과 달리 거래소 단위로 거래가 이뤄지기 때문에 같은 종류의 가상화폐라도 거래소마다 가격에 다소 차이가 있다.\n"
     ]
    }
   ],
   "source": [
    "text = input(\"글 입력 : \")"
   ]
  },
  {
   "cell_type": "code",
   "execution_count": 65,
   "id": "promising-soviet",
   "metadata": {},
   "outputs": [],
   "source": [
    "input_ids = tokenizer.encode(text)"
   ]
  },
  {
   "cell_type": "code",
   "execution_count": 66,
   "id": "young-original",
   "metadata": {},
   "outputs": [],
   "source": [
    "input_ids = torch.Tensor(input_ids).long()"
   ]
  },
  {
   "cell_type": "code",
   "execution_count": 67,
   "id": "super-classification",
   "metadata": {},
   "outputs": [],
   "source": [
    "input_ids = input_ids.unsqueeze(0)"
   ]
  },
  {
   "cell_type": "code",
   "execution_count": 68,
   "id": "south-boring",
   "metadata": {
    "scrolled": true
   },
   "outputs": [
    {
     "data": {
      "text/plain": [
       "torch.Size([1, 483])"
      ]
     },
     "execution_count": 68,
     "metadata": {},
     "output_type": "execute_result"
    }
   ],
   "source": [
    "input_ids.shape"
   ]
  },
  {
   "cell_type": "code",
   "execution_count": 69,
   "id": "powered-treasure",
   "metadata": {},
   "outputs": [],
   "source": [
    "output = model.generate(input_ids,eos_token_id = 1,max_length = 1024,num_beams = 5)"
   ]
  },
  {
   "cell_type": "code",
   "execution_count": 70,
   "id": "characteristic-memorial",
   "metadata": {},
   "outputs": [
    {
     "data": {
      "text/plain": [
       "tensor([[    2, 20611, 14085, 16538, 15322, 14085, 13328, 12972, 14635, 27413,\n",
       "         26380, 15333, 10443, 17779, 14363, 14614,  8981, 20174, 21453, 12060,\n",
       "         14454, 21295, 13714, 13458, 14558, 14590, 15524, 14893, 15409, 23277,\n",
       "         11786, 14818, 17406, 14287, 24618, 15571,  9698, 14085, 13328, 12972,\n",
       "         14635, 26536, 18525, 19797, 19987, 14076, 17603, 14441, 14063, 13128,\n",
       "           239,  6813,   240, 14957, 13714, 14618, 18223,   267,   300,   244,\n",
       "           269,   304,   373, 10012, 19052,   240, 14756, 12024, 22023, 15757,\n",
       "         16216, 14342, 16360, 14180, 27703, 20820, 24139, 14857, 14774, 15615,\n",
       "             1]])"
      ]
     },
     "execution_count": 70,
     "metadata": {},
     "output_type": "execute_result"
    }
   ],
   "source": [
    "output"
   ]
  },
  {
   "cell_type": "code",
   "execution_count": 71,
   "id": "cutting-heater",
   "metadata": {},
   "outputs": [],
   "source": [
    "output = tokenizer.decode(output[0],skip_special_tokens = True)"
   ]
  },
  {
   "cell_type": "code",
   "execution_count": 72,
   "id": "responsible-traveler",
   "metadata": {},
   "outputs": [
    {
     "data": {
      "text/plain": [
       "\"미국에서 비 7일 만에 비트코인이 6만7천달러를 돌파하며 최고가 기록을 세우자 국내 가상화폐 시장에서도 지지선을 넘어 반등에 성공했으며 미국 CNBC는 비트코인이 상승한 이유가 뚜렷하지는 않으나, 최근 '탈(脫) 중앙화 금융'(De-Fi·디파이) 서비스의 인기가 높아지면서 관련 종목들의 강세 현상이 나타나고 있다고 분석했다.\""
      ]
     },
     "execution_count": 72,
     "metadata": {},
     "output_type": "execute_result"
    }
   ],
   "source": [
    "output"
   ]
  },
  {
   "cell_type": "code",
   "execution_count": 74,
   "id": "subject-cosmetic",
   "metadata": {},
   "outputs": [
    {
     "name": "stdout",
     "output_type": "stream",
     "text": [
      "using cached model\n",
      "글 입력 :  (서울=연합뉴스) 김유아 기자 = 9일 오전 국내 가상화폐 시장에서 비트코인이 8천200만원을 넘어서면서 약 7개월 만에 사상 최고가를 다시 썼다.  가상화폐 거래소 업비트에서 이날 오전 9시 50분 1비트코인은 8천203만9천만원까지 올라, 지난 4월 14일 기록된 최고가(8천199만4천원)을 210일 만에 경신했다.  빗썸에서도 오전 10시 1비트코인은 24시간 전보다 4.54% 오른 8천197만원에 거래되며, 사상 최고가를 경신했다. 빗썸에서 비트코인의 종전 최고가는 8천148만7천원(4월 14일)이다.  고점을 찍은 뒤에는 소폭 내려앉으며 두 거래소에서 8천160만원대에서 움직이고 있다.  비트코인은 연계 상장지수펀드(ETF)인 'BITO'가 미국 뉴욕증권거래소(NYSE)에 정식 출범한 직후인 지난달 21일 8천만원선에 진입하면서 최고가 돌파를 시도했으나 투자자들의 차익 실현 등으로 인해 하락세를 보였다.  그러나 간밤 미국에서 비트코인이 사상 처음으로 6만7천달러를 돌파하며 20일 만에 최고가 기록을 세우자 국내 가상화폐 시장에서도 지지선을 넘어 반등에 성공했다.  시장에서는 인플레이션으로 인해 달러 가치가 하락하면서 '디지털 금'으로 불리는 비트코인 등 가상화폐에 대한 투자 수요가 생겨나고 있다는 분석이 나오고 있다. 인플레이션에 대한 헤지 수단으로 쓰이고 있다는 의미다.  미국에서 최근 당선된 에릭 애덤스 뉴욕시장이 초기 급여를 비트코인으로 받겠다고 선언하고, 학교에서 가상화폐 관련 교육을 해야 한다며 친(親) 가상화폐 행보를 이어간 점이 일부 영향을 미친 것으로 보인다.  미국 CNBC는 비트코인이 상승한 이유가 뚜렷하지는 않으나, 최근 '탈(脫) 중앙화 금융'(De-Fi·디파이) 서비스의 인기가 높아지면서 관련 종목들의 강세 현상이 나타나고 있다고 분석했다.  디파이는 블록체인 기술을 이용해 은행이나 중개인의 개입 없이 이용자끼리 컴퓨터 코드로 제어되는 '스마트 계약'을 맺고 진행하는 각종 금융 거래를 말한다.  국내 가상화폐 시장에서 두 번째로 덩치가 큰 이더리움은 비트코인의 상승세를 따라 580만원대를 오르내리며 600만원 진입을 시도하고 있다.  가상화폐는 주식시장과 달리 거래소 단위로 거래가 이뤄지기 때문에 같은 종류의 가상화폐라도 거래소마다 가격에 다소 차이가 있다.\n",
      "----------------------------------------------------------------------\n",
      "KoBART 요약문\n",
      "거래  차이가             가상화폐 거래소 업비트에서 이날 오전 9시 50분 1비트코인은 8천203만9천만원까지 올라, 지난 4월                     빗썸에서도 오전 10시 1비트코인은 24시간 전보다 전보다 4.54                                                                                                       비트코인은 연계 상장       비트코인은 연계 상장                                                            20일                                                  인플레이션으로   인플레이션으로                     투자 수요가 생겨나고 있다는 분석이 나오고 나오고 있다는 분석이 나오고 있다. 인플레이션에 대한 헤지 수단으로 쓰이고 있다는 의미다.      미국에서 최근 당선된 에릭 애덤스 뉴욕시장이 초기 급여를 비트코인으로                                                      디파이가 블록체인 기술을 이용해 은행이나 중개인의 개입 없이 이용자끼리 컴퓨터 코드로 제어되는 '스마트 계약'을 맺고 진행하는 다양한 금융 거래를 말한다.                                         \n"
     ]
    }
   ],
   "source": [
    "tokenizer = get_kobart_tokenizer()\n",
    "text = input(\"글 입력 : \")\n",
    "\n",
    "input_ids_origin = tokenizer.encode(text)\n",
    "input_ids_origin = torch.Tensor(input_ids_origin).long()\n",
    "input_ids_origin = input_ids_origin.unsqueeze(0)\n",
    "output_origin = origin_model.generate(input_ids_origin,eos_token_id = 1,max_length = 512,num_beams= 5)\n",
    "output_origin = tokenizer.decode(output_origin[0],skip_special_tokens = True)\n",
    "print(\"-\"*70)\n",
    "print(\"KoBART 요약문\")\n",
    "print(output_origin)"
   ]
  },
  {
   "cell_type": "code",
   "execution_count": null,
   "id": "secure-matrix",
   "metadata": {},
   "outputs": [],
   "source": []
  }
 ],
 "metadata": {
  "kernelspec": {
   "display_name": "Python 3",
   "language": "python",
   "name": "python3"
  },
  "language_info": {
   "codemirror_mode": {
    "name": "ipython",
    "version": 3
   },
   "file_extension": ".py",
   "mimetype": "text/x-python",
   "name": "python",
   "nbconvert_exporter": "python",
   "pygments_lexer": "ipython3",
   "version": "3.8.5"
  }
 },
 "nbformat": 4,
 "nbformat_minor": 5
}
